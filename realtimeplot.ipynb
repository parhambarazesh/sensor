{
 "metadata": {
  "language_info": {
   "codemirror_mode": {
    "name": "ipython",
    "version": 3
   },
   "file_extension": ".py",
   "mimetype": "text/x-python",
   "name": "python",
   "nbconvert_exporter": "python",
   "pygments_lexer": "ipython3",
   "version": "3.8.5-final"
  },
  "orig_nbformat": 2,
  "kernelspec": {
   "name": "python38564bitsensorcondaeb5c5e65a3094fc390d266e1c50e4f58",
   "display_name": "Python 3.8.5 64-bit ('sensor': conda)"
  }
 },
 "nbformat": 4,
 "nbformat_minor": 2,
 "cells": [
  {
   "cell_type": "code",
   "execution_count": 1,
   "metadata": {
    "tags": []
   },
   "outputs": [
    {
     "output_type": "stream",
     "name": "stdout",
     "text": "CODE 200\n"
    }
   ],
   "source": [
    "import requests\n",
    "import pandas as pd\n",
    "import plotly.express as px\n",
    "from datetime import datetime\n",
    "\n",
    "time1='2020-08-01T22:00:00Z'\n",
    "#end_time='2018-12-31T23:00:00Z'\n",
    "time2=str(datetime.now())[:19].replace(' ','T')+'Z'\n",
    "\n",
    "\"\"\"Getting authentication token from IC'Meter\"\"\"\n",
    "url = 'https://app.ic-meter.com/icm/oauth/token'\n",
    "headers={'Content-Type':'application/x-www-form-urlencoded'}\n",
    "body='client_id=trusted-client&grant_type=password&scope=read&username=parham.barazesh@intellectuallabs.no&password=k2Txff8ZG'\n",
    "body={'client_id':'trusted-client',\n",
    "'grant_type':'password',\n",
    "'scope':'read',\n",
    "'username':'parham.barazesh@intellectuallabs.no',\n",
    "'password':'k2Txff8ZG'}\n",
    "response = requests.post(\n",
    "    url,\n",
    "    body,\n",
    "    headers\n",
    "    )\n",
    "token=response.json()['access_token']\n",
    "\n",
    "\"\"\"Get building specs\"\"\"\n",
    "url='https://app.ic-meter.com/icm/api/buildings/2.0'\n",
    "body={'extended':'false',\n",
    "'hide_empty':'false',\n",
    "'access_token':token}\n",
    "building_specs = requests.get(\n",
    "    url,\n",
    "    body\n",
    "    )\n",
    "\n",
    "building_id=building_specs.json()[0]['buildingId']\n",
    "\n",
    "\"\"\"get sensor data\"\"\"\n",
    "url='https://app.ic-meter.com/icm/api/buildings/2.0/building/indoor/'+str(building_id)\n",
    "body={'start_time':time1,\n",
    "'end_time':time2,\n",
    "'resolution':'minute',\n",
    "'access_token':token}\n",
    "sensor_data = requests.get(\n",
    "    url,\n",
    "    body\n",
    "    )\n",
    "\n",
    "\n",
    "print('CODE',sensor_data.status_code)"
   ]
  },
  {
   "cell_type": "code",
   "execution_count": 2,
   "metadata": {},
   "outputs": [],
   "source": [
    "if sensor_data.status_code==200:\n",
    "    df=pd.DataFrame(pd.json_normalize(sensor_data.json()).units[0][0])\n",
    "    df=df[:-1]\n",
    "    \n",
    "    Time=[d['time'] for d in df.indoorMeasurements]\n",
    "    Temperature=[d['temperature'] for d in df.indoorMeasurements]\n",
    "    Humidity=[d['humidity'] for d in df.indoorMeasurements]\n",
    "    CO2=[d['co2'] for d in df.indoorMeasurements]\n",
    "    NoiseAverage=[d['noiseAverage'] for d in df.indoorMeasurements]\n",
    "    NoisePeak=[d['noisePeak'] for d in df.indoorMeasurements]\n",
    "    Light=[d['light'] for d in df.indoorMeasurements]\n",
    "\n",
    "    all_data={'Temperature':pd.DataFrame({'Time':Time,'Temperature':Temperature}),\n",
    "    'Humidity':pd.DataFrame({'Time':Time,'Humidity':Humidity}),\n",
    "    'CO2':pd.DataFrame({'Time':Time,'CO2':CO2}),\n",
    "    'NoiseAverage':pd.DataFrame({'Time':Time,'NoiseAverage':NoiseAverage}),\n",
    "    'NoisePeak':pd.DataFrame({'Time':Time,'NoisePeak':NoisePeak}),\n",
    "    'Light':pd.DataFrame({'Time':Time,'Light':Light}),}\n",
    "\n",
    "    \"\"\"for item in all_data:\n",
    "        fig = px.line(all_data[item], x=all_data[item].columns[0], y=all_data[item].columns[1], title=item)\n",
    "\n",
    "        fig.update_xaxes(rangeslider_visible=True,\n",
    "        rangeselector=dict(\n",
    "                buttons=list([\n",
    "                    dict(count=1, label=\"1 day\", step=\"day\", stepmode=\"backward\"),\n",
    "                    dict(count=7, label=\"1 week\", step=\"day\", stepmode=\"backward\"),\n",
    "                    dict(count=1, label=\"1 month\", step=\"month\", stepmode=\"backward\"),\n",
    "                    dict(step=\"all\")\n",
    "                ])\n",
    "            ))\n",
    "\n",
    "        fig.write_html(\"/home/parham/Documents/codes/factorymind/factorymind/config/static/\"+item+\".html\")\n",
    "        data=1\"\"\"\n",
    "else:\n",
    "    err_msg='Server not responding...'\n",
    "    data={'error':err_msg}"
   ]
  },
  {
   "cell_type": "code",
   "execution_count": 6,
   "metadata": {},
   "outputs": [
    {
     "output_type": "execute_result",
     "data": {
      "text/plain": "9406"
     },
     "metadata": {},
     "execution_count": 6
    }
   ],
   "source": [
    "len(NoiseAverage)"
   ]
  },
  {
   "cell_type": "code",
   "execution_count": null,
   "metadata": {},
   "outputs": [],
   "source": [
    "Time"
   ]
  },
  {
   "cell_type": "code",
   "execution_count": null,
   "metadata": {},
   "outputs": [],
   "source": []
  }
 ]
}